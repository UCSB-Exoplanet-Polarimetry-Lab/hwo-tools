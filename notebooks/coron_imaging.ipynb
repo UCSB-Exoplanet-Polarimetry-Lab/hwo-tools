{
 "cells": [
  {
   "cell_type": "markdown",
   "id": "39ac20bb-6aac-49c7-b082-306fa3bf09c0",
   "metadata": {},
   "source": [
    "## Illustration of the simple wrapper for coron_imaging"
   ]
  },
  {
   "cell_type": "markdown",
   "id": "480cbfc3-0122-4b28-8515-3918f2b80f80",
   "metadata": {},
   "source": [
    "First, do the basic imports we need "
   ]
  },
  {
   "cell_type": "code",
   "execution_count": null,
   "id": "8c1c022f-d49b-4e5c-9ae4-0fd0ee8a24d6",
   "metadata": {},
   "outputs": [],
   "source": [
    "from syotools.models import Telescope, Camera, Coronagraph\n",
    "import astropy.units as u\n",
    "import numpy as np "
   ]
  },
  {
   "cell_type": "code",
   "execution_count": null,
   "id": "ef819533-c645-4953-b697-101e05e48005",
   "metadata": {},
   "outputs": [],
   "source": [
    "# create the basic objects \n",
    "hri, cac, tel = Camera(), Coronagraph(), Telescope() \n",
    "tel.set_from_json('EAC1')\n",
    "tel.add_camera(hri)\n",
    "tel.add_coronagraph(cac) "
   ]
  },
  {
   "cell_type": "code",
   "execution_count": null,
   "id": "b7105dbd-63db-44ed-9702-7b2907616b8d",
   "metadata": {},
   "outputs": [],
   "source": [
    "cac_exp = cac.create_exposure() "
   ]
  },
  {
   "cell_type": "code",
   "execution_count": null,
   "id": "06134e74-d4ef-4c09-8e4c-9ccfb5acf7ac",
   "metadata": {},
   "outputs": [],
   "source": [
    "cac._calc_count_rates_imaging() \n",
    "cac._signal_to_noise"
   ]
  },
  {
   "cell_type": "code",
   "execution_count": null,
   "id": "0e7ccddb-06c8-4e14-a366-34ab43400499",
   "metadata": {},
   "outputs": [],
   "source": [
    "cac.int_time = 40. * u.hr\n",
    "cac.raw_contrast = 1e-10\n",
    "cac.sigma_DeltaC = 5e-12"
   ]
  },
  {
   "cell_type": "code",
   "execution_count": null,
   "id": "b906d489-8355-42b6-9405-6a13daf48f70",
   "metadata": {},
   "outputs": [],
   "source": [
    "cac._calc_count_rates_imaging() \n",
    "cac._signal_to_noise"
   ]
  },
  {
   "cell_type": "code",
   "execution_count": null,
   "id": "8d2daf56",
   "metadata": {},
   "outputs": [],
   "source": []
  },
  {
   "cell_type": "code",
   "execution_count": null,
   "id": "b9d342d9",
   "metadata": {},
   "outputs": [],
   "source": []
  },
  {
   "cell_type": "code",
   "execution_count": null,
   "id": "340965b9",
   "metadata": {},
   "outputs": [],
   "source": []
  }
 ],
 "metadata": {
  "kernelspec": {
   "display_name": "Python 3 (ipykernel)",
   "language": "python",
   "name": "python3"
  },
  "language_info": {
   "codemirror_mode": {
    "name": "ipython",
    "version": 3
   },
   "file_extension": ".py",
   "mimetype": "text/x-python",
   "name": "python",
   "nbconvert_exporter": "python",
   "pygments_lexer": "ipython3",
   "version": "3.9.15"
  }
 },
 "nbformat": 4,
 "nbformat_minor": 5
}
